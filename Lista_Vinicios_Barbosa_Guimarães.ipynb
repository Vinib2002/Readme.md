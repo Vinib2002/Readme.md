{
  "nbformat": 4,
  "nbformat_minor": 0,
  "metadata": {
    "colab": {
      "name": "Lista Vinicios Barbosa Guimarães.ipynb",
      "provenance": [],
      "collapsed_sections": [],
      "authorship_tag": "ABX9TyMiZ768vsIEnJ3bSHXvbru4",
      "include_colab_link": true
    },
    "kernelspec": {
      "name": "python3",
      "display_name": "Python 3"
    },
    "language_info": {
      "name": "python"
    }
  },
  "cells": [
    {
      "cell_type": "markdown",
      "metadata": {
        "id": "view-in-github",
        "colab_type": "text"
      },
      "source": [
        "<a href=\"https://colab.research.google.com/github/Vinib2002/Readme.md/blob/main/Lista_Vinicios_Barbosa_Guimar%C3%A3es.ipynb\" target=\"_parent\"><img src=\"https://colab.research.google.com/assets/colab-badge.svg\" alt=\"Open In Colab\"/></a>"
      ]
    },
    {
      "cell_type": "markdown",
      "source": [
        "* Vinicios Barbosa Guimarães;\n",
        "* Disciplina: Introdução a Programação;\n",
        "* Data: 15/06/2022\n",
        "\n",
        "\n",
        "\n"
      ],
      "metadata": {
        "id": "qdRetmL2HJSo"
      }
    },
    {
      "cell_type": "markdown",
      "source": [
        "# 1.Faça um Programa que 1eia um vetor de 5 números inteiros e mostre-os.\n",
        "\n"
      ],
      "metadata": {
        "id": "LTEHD7R6jXPl"
      }
    },
    {
      "cell_type": "code",
      "source": [
        "vetor= []\n",
        "while len(vetor)<5:\n",
        "  valor=int(input(\"Digite um número inteiro: \"))\n",
        "  vetor.append(valor)\n",
        "print(\"Os Vetores cadastrados foram esses:\")\n",
        "for i in range(5):\n",
        "  print(vetor[i])\n"
      ],
      "metadata": {
        "id": "cHJmqMkzjbjd",
        "colab": {
          "base_uri": "https://localhost:8080/"
        },
        "outputId": "f87b1fe1-93cc-4bc1-dd2f-5751fb441e0a"
      },
      "execution_count": 79,
      "outputs": [
        {
          "output_type": "stream",
          "name": "stdout",
          "text": [
            "Digite um número inteiro: 1\n",
            "Digite um número inteiro: 2\n",
            "Digite um número inteiro: 3\n",
            "Digite um número inteiro: 4\n",
            "Digite um número inteiro: 5\n",
            "Os Vetores cadastrados foram esses:\n",
            "1\n",
            "2\n",
            "3\n",
            "4\n",
            "5\n"
          ]
        }
      ]
    },
    {
      "cell_type": "markdown",
      "source": [
        "# 2. Faça um Programa que leia um vetor de 10 números reais e mostre-os na ordem inversa."
      ],
      "metadata": {
        "id": "nMQymEb3jczr"
      }
    },
    {
      "cell_type": "code",
      "source": [
        "vetor= []\n",
        "while len(vetor)<10:\n",
        "  valor=float(input(\"Digite um número Real: \"))\n",
        "  vetor.append(valor)\n",
        "print(\"Os Vetores cadastrados foram esses:\")\n",
        "i=9\n",
        "while i>=0:\n",
        "  print(vetor[i])\n",
        "  i= i-1\n"
      ],
      "metadata": {
        "colab": {
          "base_uri": "https://localhost:8080/"
        },
        "id": "kygPgx4EjvJz",
        "outputId": "3079d00a-ab6e-4cda-8e17-f36c13a30e9a"
      },
      "execution_count": 80,
      "outputs": [
        {
          "output_type": "stream",
          "name": "stdout",
          "text": [
            "Digite um número Real: 1\n",
            "Digite um número Real: 2\n",
            "Digite um número Real: 3\n",
            "Digite um número Real: 4\n",
            "Digite um número Real: 5\n",
            "Digite um número Real: 6\n",
            "Digite um número Real: 7\n",
            "Digite um número Real: 8\n",
            "Digite um número Real: 9\n",
            "Digite um número Real: 10\n",
            "Os Vetores cadastrados foram esses:\n",
            "10.0\n",
            "9.0\n",
            "8.0\n",
            "7.0\n",
            "6.0\n",
            "5.0\n",
            "4.0\n",
            "3.0\n",
            "2.0\n",
            "1.0\n"
          ]
        }
      ]
    },
    {
      "cell_type": "markdown",
      "source": [
        "# 10. Faça um Programa que leia dois vetores com 10 elementos cada. Gere um terceiro vetor de 20 elementos, cujos valores deverão ser compostos pelos elementos intercalados dos dois outros vetores."
      ],
      "metadata": {
        "id": "6dH9NpKhjyLx"
      }
    },
    {
      "cell_type": "code",
      "source": [
        "vetor1=[]\n",
        "vetor2=[]\n",
        "vetor3=[]\n",
        "while len(vetor1)<10:\n",
        "  valor1=input(\"Digite um elemento para o vetor1: \")\n",
        "  vetor1.append(valor1)\n",
        "while len(vetor2)<10:\n",
        "  valor2=input(\"Digite um elemento para o vetor 2: \")\n",
        "  vetor2.append(valor2)\n",
        "for i in range(10):\n",
        "  vetor3.append(vetor1[i])\n",
        "  vetor3.append(vetor2[i])\n",
        "print(vetor3)"
      ],
      "metadata": {
        "colab": {
          "base_uri": "https://localhost:8080/"
        },
        "id": "ydHIcOFDj-am",
        "outputId": "c28f5622-8ef5-48ae-9517-eb200b3b2dee"
      },
      "execution_count": 81,
      "outputs": [
        {
          "output_type": "stream",
          "name": "stdout",
          "text": [
            "Digite um elemento para o vetor1: 1\n",
            "Digite um elemento para o vetor1: 2\n",
            "Digite um elemento para o vetor1: 3\n",
            "Digite um elemento para o vetor1: 4\n",
            "Digite um elemento para o vetor1: oi\n",
            "Digite um elemento para o vetor1: 5\n",
            "Digite um elemento para o vetor1: 6\n",
            "Digite um elemento para o vetor1: 8\n",
            "Digite um elemento para o vetor1: 19\n",
            "Digite um elemento para o vetor1: 10\n",
            "Digite um elemento para o vetor 2: vinji\n",
            "Digite um elemento para o vetor 2: 1\n",
            "Digite um elemento para o vetor 2: 2\n",
            "Digite um elemento para o vetor 2: 3\n",
            "Digite um elemento para o vetor 2: 4\n",
            "Digite um elemento para o vetor 2: 5\n",
            "Digite um elemento para o vetor 2: 6\n",
            "Digite um elemento para o vetor 2: 1\n",
            "Digite um elemento para o vetor 2: 1\n",
            "Digite um elemento para o vetor 2: 2\n",
            "['1', 'vinji', '2', '1', '3', '2', '4', '3', 'oi', '4', '5', '5', '6', '6', '8', '1', '19', '1', '10', '2']\n"
          ]
        }
      ]
    },
    {
      "cell_type": "markdown",
      "source": [
        "# 11. Altere o programa anterior, intercalando 3 vetores de 10 elementos cada.\n"
      ],
      "metadata": {
        "id": "mYIggflCj-6V"
      }
    },
    {
      "cell_type": "code",
      "source": [
        "vetor1=[]\n",
        "vetor2=[]\n",
        "vetor3=[]\n",
        "vetor4=[]\n",
        "while len(vetor1)<10:\n",
        "  valor1=input(\"Digite um elemento para o vetor1: \")\n",
        "  vetor1.append(valor1)\n",
        "while len(vetor2)<10:\n",
        "  valor2=input(\"Digite um elemento para o vetor 2: \")\n",
        "  vetor2.append(valor2)\n",
        "while len(vetor3)<10:\n",
        "  valor3=input(\"Digite um elemento para o vetor 3: \")\n",
        "  vetor3.append(valor3)\n",
        "for i in range(10):\n",
        "  vetor4.append(vetor1[i])\n",
        "  vetor4.append(vetor2[i])\n",
        "  vetor4.append(vetor3[i])\n",
        "print(vetor4)\n"
      ],
      "metadata": {
        "colab": {
          "base_uri": "https://localhost:8080/"
        },
        "id": "VoHwM-AYkDob",
        "outputId": "98f8e6b7-a717-4859-db95-a2a7c215980a"
      },
      "execution_count": 82,
      "outputs": [
        {
          "output_type": "stream",
          "name": "stdout",
          "text": [
            "Digite um elemento para o vetor1: vini\n",
            "Digite um elemento para o vetor1: é\n",
            "Digite um elemento para o vetor1: muito\n",
            "Digite um elemento para o vetor1: lindo\n",
            "Digite um elemento para o vetor1: e\n",
            "Digite um elemento para o vetor1: ele\n",
            "Digite um elemento para o vetor1: gosta\n",
            "Digite um elemento para o vetor1: de machine\n",
            "Digite um elemento para o vetor1: leraning\n",
            "Digite um elemento para o vetor1: e programação\n",
            "Digite um elemento para o vetor 2: como\n",
            "Digite um elemento para o vetor 2: ele é\n",
            "Digite um elemento para o vetor 2: temoso\n",
            "Digite um elemento para o vetor 2: ele\n",
            "Digite um elemento para o vetor 2: escolhe\n",
            "Digite um elemento para o vetor 2: n\n",
            "Digite um elemento para o vetor 2: copiar\n",
            "Digite um elemento para o vetor 2: muito\n",
            "Digite um elemento para o vetor 2: pq\n",
            "Digite um elemento para o vetor 2: se\n",
            "Digite um elemento para o vetor 3: n\n",
            "Digite um elemento para o vetor 3: ele\n",
            "Digite um elemento para o vetor 3: vai\n",
            "Digite um elemento para o vetor 3: ficar\n",
            "Digite um elemento para o vetor 3: brava\n",
            "Digite um elemento para o vetor 3: aqui\n",
            "Digite um elemento para o vetor 3: nesse\n",
            "Digite um elemento para o vetor 3: sistema\n",
            "Digite um elemento para o vetor 3: apocallitipo\n",
            "Digite um elemento para o vetor 3: quadrado\n",
            "['vini', 'como', 'n', 'é', 'ele é', 'ele', 'muito', 'temoso', 'vai', 'lindo', 'ele', 'ficar', 'e', 'escolhe', 'brava', 'ele', 'n', 'aqui', 'gosta', 'copiar', 'nesse', 'de machine', 'muito', 'sistema', 'leraning', 'pq', 'apocallitipo', 'e programação', 'se', 'quadrado']\n"
          ]
        }
      ]
    },
    {
      "cell_type": "markdown",
      "source": [
        "# 15. Faça um programa que leia um número indeterminado de valores, correspondentes a notas, encerrando a entrada de dados quando for informado um valor igual a -1 (que não deve ser armazenado). Após esta entrada de dados, faça:\n",
        "Mostre a quantidade de valores que foram lidos;\n",
        "Exiba todos os valores na ordem em que foram informados, um ao lado do outro;\n",
        "Exiba todos os valores na ordem inversa à que foram informados, um abaixo do outro;\n",
        "Calcule e mostre a soma dos valores;\n",
        "Calcule e mostre a média dos valores;\n",
        "Calcule e mostre a quantidade de valores acima da média calculada;\n",
        "Calcule e mostre a quantidade de valores abaixo de sete;\n",
        "Encerre o programa com uma mensagem;"
      ],
      "metadata": {
        "id": "gqQwJoETkG8Z"
      }
    },
    {
      "cell_type": "code",
      "source": [
        "lista=[]\n",
        "while(True):\n",
        "  valor= int(input(\"Digite as notas: \"))\n",
        "  if(valor==-1):\n",
        "    break\n",
        "  else:\n",
        "    lista.append(valor)\n",
        "print(\"A quantidade de valores lidos é:\",len(lista))\n",
        "print(\"os valores infromados foram\",lista)\n",
        "print(\"os valores informados em ordem inversa foram:\")\n",
        "for cont in reversed(lista):\n",
        "  print(cont)  \n",
        "soma=0\n",
        "for cont in (lista):\n",
        "  valor = cont\n",
        "  soma= valor + soma\n",
        "print(\"O valor da soma é :\",soma)\n",
        "media=(soma/(len(lista)))\n",
        "print(\"o valor da média é gual\",media)\n",
        "abaixo=0\n",
        "acima=0\n",
        "for valores in (lista):\n",
        "  if valores > media:\n",
        "    acima = acima+1\n",
        "  if valores< 7:\n",
        "    abaixo =abaixo+1\n",
        "print(\"A quantidade de valores acima da média é:\",acima)\n",
        "print(\"A quantidade de valores abaixo de 7 é:\",abaixo)\n",
        "print(\"Programa Finalizado com sucesso\")\n"
      ],
      "metadata": {
        "id": "wPwA1sCMkP4x",
        "colab": {
          "base_uri": "https://localhost:8080/"
        },
        "outputId": "b361c05b-6d9e-4846-f225-78c9de2c4cfc"
      },
      "execution_count": 73,
      "outputs": [
        {
          "output_type": "stream",
          "name": "stdout",
          "text": [
            "Digite as notas: 300\n",
            "Digite as notas: 1\n",
            "Digite as notas: 5\n",
            "Digite as notas: -1\n",
            "A quantidade de valores lidos é: 3\n",
            "os valores infromados foram [300, 1, 5]\n",
            "Os valores informados em ordem inversa foram: 5\n",
            "Os valores informados em ordem inversa foram: 1\n",
            "Os valores informados em ordem inversa foram: 300\n",
            "O valor da soma é : 306\n",
            "o valor da média é gual 102.0\n",
            "A quantidade de valores acima da média é: 1\n",
            "A quantidade de valores abaixo de 7 é: 2\n",
            "Programa Finalizado com sucesso\n"
          ]
        }
      ]
    },
    {
      "cell_type": "markdown",
      "source": [
        "# 16. Utilize uma lista para resolver o problema a seguir. Uma empresa paga seus vendedores com base em comissões. O vendedor recebe $200 por semana mais 9 por cento de suas vendas brutas daquela semana. Por exemplo, um vendedor que teve vendas brutas de $3000 em uma semana recebe $200 mais 9 por cento de $3000, ou seja, um total de $470. Escreva um programa (usando um array de contadores) que determine quantos vendedores receberam salários nos seguintes intervalos de valores:\n",
        "\n",
        "\n",
        "$200 - $299\n",
        "$300 - $399\n",
        "$400 - $499\n",
        "$500 - $599\n",
        "$600 - $699\n",
        "$700 - $799\n",
        "$800 - $899\n",
        "$900 - $999\n",
        "$1000 em diante"
      ],
      "metadata": {
        "id": "kjOaCHFdkRkv"
      }
    },
    {
      "cell_type": "code",
      "source": [
        "vendedores = [0]*9\n",
        "Base = 200\n",
        "for i in range(1, 10):\n",
        "    valorVendas = float(input('Informe o valor das vendas feitas pelo vendedor: '))\n",
        "    salario = valorVendas * 0.09 + Base\n",
        "    indice = int(salario / 100) - 1\n",
        "    if (indice > 9):\n",
        "        indice = 9\n",
        "    elif (indice < 1):\n",
        "        indice = 11\n",
        "    else:\n",
        "        indice = indice\n",
        "    vendedores[indice - 1] += 1\n",
        "print(vendedores)\n",
        "for i in range(0, 9):\n",
        "    print(f'{i * 100 + 200} - {(i + 1) * 100 + 199} : {vendedores[i]}')"
      ],
      "metadata": {
        "id": "VieqjE7OkWAc",
        "colab": {
          "base_uri": "https://localhost:8080/"
        },
        "outputId": "ae6482d0-555c-4e5a-da94-ca314966e864"
      },
      "execution_count": 78,
      "outputs": [
        {
          "output_type": "stream",
          "name": "stdout",
          "text": [
            "Informe o valor das vendas feitas pelo vendedor: 1\n",
            "Informe o valor das vendas feitas pelo vendedor: 2\n",
            "Informe o valor das vendas feitas pelo vendedor: 3\n",
            "Informe o valor das vendas feitas pelo vendedor: 4\n",
            "Informe o valor das vendas feitas pelo vendedor: 5\n",
            "Informe o valor das vendas feitas pelo vendedor: 6\n",
            "Informe o valor das vendas feitas pelo vendedor: 7\n",
            "Informe o valor das vendas feitas pelo vendedor: 8\n",
            "Informe o valor das vendas feitas pelo vendedor: 9\n",
            "[9, 0, 0, 0, 0, 0, 0, 0, 0]\n",
            "200 - 299 : 9\n",
            "300 - 399 : 0\n",
            "400 - 499 : 0\n",
            "500 - 599 : 0\n",
            "600 - 699 : 0\n",
            "700 - 799 : 0\n",
            "800 - 899 : 0\n",
            "900 - 999 : 0\n",
            "1000 - 1099 : 0\n"
          ]
        }
      ]
    }
  ]
}